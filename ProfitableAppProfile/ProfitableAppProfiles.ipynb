{
 "cells": [
  {
   "cell_type": "markdown",
   "metadata": {},
   "source": [
    "# Profitable App Profiles for the App Store and Google Play Markets\n",
    "\n",
    "When working in a compagny designing free mobile application, it is essential to properly aim the target application and market. \n",
    "\n",
    "The aim of this project is to analyse and gain key information about mobile application on the market in order to help the marketing strategy.\n",
    "\n",
    "\n",
    "## Opening and exploring data\n",
    "\n",
    "We gathered two data sets including information about the Apple store and Google Play applications :\n",
    "- `googleplaystore.csv`\n",
    "- `AppleStore.csv`\n",
    "\n",
    "Let's explore them both :"
   ]
  },
  {
   "cell_type": "code",
   "execution_count": 1,
   "metadata": {},
   "outputs": [],
   "source": [
    "from csv import reader\n",
    "\n",
    "# Function to open the csv file\n",
    "def open_data_set(filename):\n",
    "    file = open(filename, encoding='utf8')\n",
    "    r = reader(file)\n",
    "    return list(r)\n",
    "\n",
    "# To quickly explore a data set (input as a list of list)\n",
    "def explore_data_set(data_set, start, end, rows_and_column=False):\n",
    "    dataset_slice=data_set[start:end]\n",
    "    for row in dataset_slice:\n",
    "        print(row)\n",
    "        print(\"\\n\")\n",
    "    if rows_and_column:\n",
    "        print(\"# Columns :\", len(data_set[0]))\n",
    "        print(\"# Rows :\", len(data_set))  \n",
    "        print(\"header :\", data_set[0])"
   ]
  },
  {
   "cell_type": "markdown",
   "metadata": {},
   "source": [
    "### Apple store data"
   ]
  },
  {
   "cell_type": "code",
   "execution_count": 2,
   "metadata": {},
   "outputs": [
    {
     "name": "stdout",
     "output_type": "stream",
     "text": [
      "['284882215', 'Facebook', '389879808', 'USD', '0.0', '2974676', '212', '3.5', '3.5', '95.0', '4+', 'Social Networking', '37', '1', '29', '1']\n",
      "\n",
      "\n",
      "['389801252', 'Instagram', '113954816', 'USD', '0.0', '2161558', '1289', '4.5', '4.0', '10.23', '12+', 'Photo & Video', '37', '0', '29', '1']\n",
      "\n",
      "\n",
      "# Columns : 16\n",
      "# Rows : 7198\n",
      "header : ['id', 'track_name', 'size_bytes', 'currency', 'price', 'rating_count_tot', 'rating_count_ver', 'user_rating', 'user_rating_ver', 'ver', 'cont_rating', 'prime_genre', 'sup_devices.num', 'ipadSc_urls.num', 'lang.num', 'vpp_lic']\n"
     ]
    }
   ],
   "source": [
    "# Apple store data\n",
    "apple_apps_data=open_data_set('AppleStore.csv')\n",
    "\n",
    "explore_data_set(apple_apps_data, 1, 3, True)"
   ]
  },
  {
   "cell_type": "markdown",
   "metadata": {},
   "source": [
    "### Google play data"
   ]
  },
  {
   "cell_type": "code",
   "execution_count": 4,
   "metadata": {},
   "outputs": [
    {
     "name": "stdout",
     "output_type": "stream",
     "text": [
      "['Photo Editor & Candy Camera & Grid & ScrapBook', 'ART_AND_DESIGN', '4.1', '159', '19M', '10,000+', 'Free', '0', 'Everyone', 'Art & Design', 'January 7, 2018', '1.0.0', '4.0.3 and up']\n",
      "\n",
      "\n",
      "['Coloring book moana', 'ART_AND_DESIGN', '3.9', '967', '14M', '500,000+', 'Free', '0', 'Everyone', 'Art & Design;Pretend Play', 'January 15, 2018', '2.0.0', '4.0.3 and up']\n",
      "\n",
      "\n",
      "# Columns : 13\n",
      "# Rows : 10842\n",
      "header : ['App', 'Category', 'Rating', 'Reviews', 'Size', 'Installs', 'Type', 'Price', 'Content Rating', 'Genres', 'Last Updated', 'Current Ver', 'Android Ver']\n"
     ]
    }
   ],
   "source": [
    "# Google play data\n",
    "gplay_apps_data=open_data_set('googleplaystore.csv')\n",
    "\n",
    "explore_data_set(gplay_apps_data, 1, 3, True)"
   ]
  },
  {
   "cell_type": "markdown",
   "metadata": {},
   "source": [
    "As we are marketing free application for english-speaking audiance, we shall remove the non-free and non-english application"
   ]
  },
  {
   "cell_type": "markdown",
   "metadata": {},
   "source": [
    "## Cleaning the data\n",
    "\n",
    "As in every data science project, we need to make sure our data are clean, and the first step is to check whether or not there are duplicate rows in our data set.\n",
    "\n",
    "### Removing duplicates"
   ]
  },
  {
   "cell_type": "code",
   "execution_count": 5,
   "metadata": {},
   "outputs": [
    {
     "name": "stdout",
     "output_type": "stream",
     "text": [
      "['Xposed Wi-Fi-Pwd', 'PERSONALIZATION', '3.5', '1042', '404k', '100,000+', 'Free', '0', 'Everyone', 'Personalization', 'August 5, 2014', '3.0.0', '4.0.3 and up']\n",
      "\n",
      "\n",
      "['Life Made WI-Fi Touchscreen Photo Frame', '1.9', '19', '3.0M', '1,000+', 'Free', '0', 'Everyone', '', 'February 11, 2018', '1.0.19', '4.0 and up']\n",
      "\n",
      "\n",
      "['osmino Wi-Fi: free WiFi', 'TOOLS', '4.2', '134203', '4.1M', '10,000,000+', 'Free', '0', 'Everyone', 'Tools', 'August 7, 2018', '6.06.14', '4.4 and up']\n",
      "\n",
      "\n"
     ]
    }
   ],
   "source": [
    "explore_data_set(gplay_apps_data, 10472,10475)    # 10473th row has a missing attribute so we'll remove this row  "
   ]
  },
  {
   "cell_type": "code",
   "execution_count": 6,
   "metadata": {},
   "outputs": [],
   "source": [
    "del gplay_apps_data[10473]"
   ]
  },
  {
   "cell_type": "markdown",
   "metadata": {},
   "source": [
    "It seems there are duplicate in our data_set, we need to explore it in order to remove the relevant data."
   ]
  },
  {
   "cell_type": "code",
   "execution_count": 7,
   "metadata": {},
   "outputs": [
    {
     "name": "stdout",
     "output_type": "stream",
     "text": [
      "Exemple of duplicates :\n",
      " ['Quick PDF Scanner + OCR FREE', 'Box', 'Google My Business', 'ZOOM Cloud Meetings', 'join.me - Simple Meetings', 'Box', 'Zenefits', 'Google Ads', 'Google My Business', 'Slack', 'FreshBooks Classic', 'Insightly CRM', 'QuickBooks Accounting: Invoicing & Expenses', 'HipChat - Chat Built for Teams', 'Xero Accounting Software']\n",
      "\n",
      "Exemple of unique names :\n",
      " ['Photo Editor & Candy Camera & Grid & ScrapBook', 'Coloring book moana', 'U Launcher Lite – FREE Live Cool Themes, Hide Apps', 'Sketch - Draw & Paint', 'Pixel Draw - Number Art Coloring Book', 'Paper flowers instructions', 'Smoke Effect Photo Maker - Smoke Editor', 'Infinite Painter', 'Garden Coloring Book', 'Kids Paint Free - Drawing Fun', 'Text on Photo - Fonteee', 'Name Art Photo Editor - Focus n Filters', 'Tattoo Name On My Photo Editor', 'Mandala Coloring Book', '3D Color Pixel by Number - Sandbox Art Coloring']\n",
      "\n",
      "\n",
      "Number of Duplicate : 1181\n",
      "Number of unique application : 9659\n"
     ]
    }
   ],
   "source": [
    "unique_names=[]\n",
    "duplicate_names=[]\n",
    "for row in gplay_apps_data[1:]:\n",
    "    name = row[0]\n",
    "    if name in unique_names:\n",
    "        duplicate_names.append(name)\n",
    "    else:\n",
    "        unique_names.append(name)\n",
    "        \n",
    "print(\"Exemple of duplicates :\\n\", duplicate_names[:15])\n",
    "print(\"\\nExemple of unique names :\\n\", unique_names[:15])\n",
    "print(\"\\n\\nNumber of Duplicate :\", len(duplicate_names))\n",
    "print(\"Number of unique application :\", len(unique_names))"
   ]
  },
  {
   "cell_type": "markdown",
   "metadata": {},
   "source": [
    "We can see that around 10% of our data consists of duplicate. To properly analyse our data we need to clean it up. But first, let's take a closer look at one duplicate so that we can determine which entry we should keep."
   ]
  },
  {
   "cell_type": "code",
   "execution_count": 8,
   "metadata": {},
   "outputs": [
    {
     "name": "stdout",
     "output_type": "stream",
     "text": [
      "['Instagram', 'SOCIAL', '4.5', '66577313', 'Varies with device', '1,000,000,000+', 'Free', '0', 'Teen', 'Social', 'July 31, 2018', 'Varies with device', 'Varies with device']\n",
      "['Instagram', 'SOCIAL', '4.5', '66577446', 'Varies with device', '1,000,000,000+', 'Free', '0', 'Teen', 'Social', 'July 31, 2018', 'Varies with device', 'Varies with device']\n",
      "['Instagram', 'SOCIAL', '4.5', '66577313', 'Varies with device', '1,000,000,000+', 'Free', '0', 'Teen', 'Social', 'July 31, 2018', 'Varies with device', 'Varies with device']\n",
      "['Instagram', 'SOCIAL', '4.5', '66509917', 'Varies with device', '1,000,000,000+', 'Free', '0', 'Teen', 'Social', 'July 31, 2018', 'Varies with device', 'Varies with device']\n"
     ]
    }
   ],
   "source": [
    "n_show=5\n",
    "pdf_apps=[]\n",
    "for row in gplay_apps_data:\n",
    "    if row[0] == \"Instagram\":\n",
    "        pdf_apps.append(row)\n",
    "        if n_show>=0:\n",
    "            print(row)\n",
    "            n_show-=1"
   ]
  },
  {
   "cell_type": "markdown",
   "metadata": {},
   "source": [
    "After examination, we can see that duplicate data only differ on one parameter : the number of reviews.\n",
    "As this number can only increase over time, we are going to keep the rows including the maximum number of review for any application. "
   ]
  },
  {
   "cell_type": "code",
   "execution_count": 9,
   "metadata": {},
   "outputs": [
    {
     "name": "stdout",
     "output_type": "stream",
     "text": [
      "9659\n"
     ]
    }
   ],
   "source": [
    "apps_and_reviews={}\n",
    "for row in gplay_apps_data[1:]:\n",
    "    name = row[0]\n",
    "    review=float(row[3])\n",
    "    if name not in apps_and_reviews or review > apps_and_reviews[name]:\n",
    "        apps_and_reviews[name]=review\n",
    "        \n",
    "print(len(apps_and_reviews))"
   ]
  },
  {
   "cell_type": "code",
   "execution_count": 10,
   "metadata": {},
   "outputs": [
    {
     "name": "stdout",
     "output_type": "stream",
     "text": [
      "9659\n"
     ]
    }
   ],
   "source": [
    "android_clean=[]\n",
    "for row in gplay_apps_data[1:]:\n",
    "    name = row[0]\n",
    "    review=float(row[3])\n",
    "    if review == apps_and_reviews[name]:\n",
    "        android_clean.append(row)\n",
    "        apps_and_reviews[name]=-1\n",
    "        \n",
    "print(len(android_clean))"
   ]
  },
  {
   "cell_type": "markdown",
   "metadata": {},
   "source": [
    "We have now cleaned the duplicates rows of the android data set. Is the same issue arising in the Apple dataset ?"
   ]
  },
  {
   "cell_type": "code",
   "execution_count": 12,
   "metadata": {},
   "outputs": [
    {
     "name": "stdout",
     "output_type": "stream",
     "text": [
      "True\n",
      "False\n",
      "True\n"
     ]
    }
   ],
   "source": [
    "def has_duplicate(data_set):\n",
    "    unique_name={}\n",
    "    for row in data_set[1:]:\n",
    "        name = row[0]\n",
    "        if name not in unique_name:\n",
    "            unique_name[name]=1\n",
    "        else:\n",
    "            return False\n",
    "    return True\n",
    "\n",
    "print(has_duplicate(android_clean))\n",
    "print(has_duplicate(gplay_apps_data))\n",
    "print(has_duplicate(apple_apps_data))"
   ]
  },
  {
   "cell_type": "markdown",
   "metadata": {},
   "source": [
    "The define function above shows that neither our android_clean nor apple data sets have duplicates, whereas google play one does have duplicate, as we show above. Anyway, let us move on to remove non-english speaking applications.\n",
    "\n",
    "### Non-english speaking applications\n",
    "\n",
    "As our market study focuses on english speaking application, we will remove non english speaking application. First, we need to detect whether an application is in english or not"
   ]
  },
  {
   "cell_type": "code",
   "execution_count": 13,
   "metadata": {},
   "outputs": [
    {
     "name": "stdout",
     "output_type": "stream",
     "text": [
      "True\n",
      "False\n",
      "True\n",
      "False\n",
      "True\n"
     ]
    }
   ],
   "source": [
    "def is_english_string(string, n=4):\n",
    "    for char in string:\n",
    "        if ord(char) > 127:\n",
    "            n-=1\n",
    "        if n == 0:\n",
    "            return False\n",
    "    return True\n",
    "\n",
    "print(is_english_string(\"hello there !\"))\n",
    "print(is_english_string(\"Здоровье\"))\n",
    "print(is_english_string('Docs To Go™ Free Office Suite'))\n",
    "print(is_english_string('爱奇艺PPS -《欢乐颂2》电视剧热播'))\n",
    "print(is_english_string('Instachat 😜'))"
   ]
  },
  {
   "cell_type": "code",
   "execution_count": 14,
   "metadata": {},
   "outputs": [
    {
     "name": "stdout",
     "output_type": "stream",
     "text": [
      "Initial data set # row : 9659\n",
      "Cleaned data set # row : 9613\n",
      "\n",
      "Initial data set # row : 7198\n",
      "Cleaned data set # row : 6183\n",
      "\n"
     ]
    }
   ],
   "source": [
    "def remove_non_english_apps(data_set, name_index):\n",
    "    clean_dataset=[]\n",
    "    for row in data_set[1:]:\n",
    "        name = row[name_index]\n",
    "        if is_english_string(name):\n",
    "            clean_dataset.append(row)\n",
    "    print(\"Initial data set # row :\", len(data_set))\n",
    "    print(\"Cleaned data set # row :\", len(clean_dataset))\n",
    "    print(\"\")\n",
    "    return clean_dataset\n",
    "\n",
    "clean_android=remove_non_english_apps(android_clean,0)\n",
    "clean_apple=remove_non_english_apps(apple_apps_data,1)"
   ]
  },
  {
   "cell_type": "code",
   "execution_count": 15,
   "metadata": {},
   "outputs": [
    {
     "data": {
      "text/plain": [
       "['United Airlines',\n",
       " 'TRAVEL_AND_LOCAL',\n",
       " '3.5',\n",
       " '30447',\n",
       " '80M',\n",
       " '5,000,000+',\n",
       " 'Free',\n",
       " '0',\n",
       " 'Everyone',\n",
       " 'Travel & Local',\n",
       " 'July 20, 2018',\n",
       " '2.1.56',\n",
       " '5.0 and up']"
      ]
     },
     "execution_count": 15,
     "metadata": {},
     "output_type": "execute_result"
    }
   ],
   "source": [
    "clean_android[2300]"
   ]
  },
  {
   "cell_type": "markdown",
   "metadata": {},
   "source": [
    "### Remove non free applications\n",
    "\n",
    "As our compagny merely focuses on free application, we will not remove any paying application from each data set."
   ]
  },
  {
   "cell_type": "code",
   "execution_count": 16,
   "metadata": {},
   "outputs": [],
   "source": [
    "def remove_non_free_app(data_set, price_index):\n",
    "    clean_set=[]\n",
    "    for row in data_set:\n",
    "        s_price = row[price_index]\n",
    "        price = float(s_price.replace(\"$\",\"\"))\n",
    "        if price == 0:\n",
    "            clean_set.append(row)\n",
    "    return clean_set\n",
    "\n",
    "clean_android=remove_non_free_app(clean_android,7)\n",
    "clean_apple=remove_non_free_app(clean_apple,4)"
   ]
  },
  {
   "cell_type": "code",
   "execution_count": 17,
   "metadata": {},
   "outputs": [
    {
     "name": "stdout",
     "output_type": "stream",
     "text": [
      "8863\n",
      "3222\n"
     ]
    }
   ],
   "source": [
    "print(len(clean_android))\n",
    "print(len(clean_apple))"
   ]
  },
  {
   "cell_type": "markdown",
   "metadata": {},
   "source": [
    "We have now remove non-english apps and paying application. "
   ]
  },
  {
   "cell_type": "markdown",
   "metadata": {},
   "source": [
    "## Data analysis\n",
    "\n",
    "Now that we cleaned both dataset, we can analyse them in order to fit our strategy. This one consists of find the kind of application that attracts user on both Apple and Google play markets. Then our validation strategy will consist of three steps :\n",
    "- Build a minimal Android version of the app\n",
    "- If the app is successful, develop it further\n",
    "- If after 6 months, the application is profitable, develop an Apple version and add it to the Apple store\n",
    "\n",
    "We will now examine what genre of application are the most commun on each market."
   ]
  },
  {
   "cell_type": "code",
   "execution_count": 18,
   "metadata": {},
   "outputs": [
    {
     "name": "stdout",
     "output_type": "stream",
     "text": [
      "Apple store prime genre frequency table\n",
      "Games : 1874\n",
      "Entertainment : 254\n",
      "Photo & Video : 160\n",
      "Education : 118\n",
      "Social Networking : 106\n",
      "Shopping : 84\n",
      "Utilities : 81\n",
      "Sports : 69\n",
      "Music : 66\n",
      "Health & Fitness : 65\n",
      "Productivity : 56\n",
      "Lifestyle : 51\n",
      "News : 43\n",
      "Travel : 40\n",
      "Finance : 36\n",
      "Weather : 28\n",
      "Food & Drink : 26\n",
      "Reference : 18\n",
      "Business : 17\n",
      "Book : 14\n",
      "Navigation : 6\n",
      "Medical : 6\n",
      "Catalogs : 4\n",
      "\n",
      "GPlay category frequency table\n",
      "FAMILY : 1676\n",
      "GAME : 862\n",
      "TOOLS : 750\n",
      "BUSINESS : 407\n",
      "LIFESTYLE : 346\n",
      "PRODUCTIVITY : 345\n",
      "FINANCE : 328\n",
      "MEDICAL : 313\n",
      "SPORTS : 301\n",
      "PERSONALIZATION : 294\n",
      "COMMUNICATION : 287\n",
      "HEALTH_AND_FITNESS : 273\n",
      "PHOTOGRAPHY : 261\n",
      "NEWS_AND_MAGAZINES : 248\n",
      "SOCIAL : 236\n",
      "TRAVEL_AND_LOCAL : 207\n",
      "SHOPPING : 199\n",
      "BOOKS_AND_REFERENCE : 190\n",
      "DATING : 165\n",
      "VIDEO_PLAYERS : 159\n",
      "MAPS_AND_NAVIGATION : 124\n",
      "FOOD_AND_DRINK : 110\n",
      "EDUCATION : 103\n",
      "ENTERTAINMENT : 85\n",
      "LIBRARIES_AND_DEMO : 83\n",
      "AUTO_AND_VEHICLES : 82\n",
      "HOUSE_AND_HOME : 73\n",
      "WEATHER : 71\n",
      "EVENTS : 63\n",
      "PARENTING : 58\n",
      "ART_AND_DESIGN : 56\n",
      "COMICS : 55\n",
      "BEAUTY : 53\n",
      "\n",
      "GPlay genre frequency table\n",
      "Tools : 749\n",
      "Entertainment : 538\n",
      "Education : 474\n",
      "Business : 407\n",
      "Productivity : 345\n",
      "Lifestyle : 345\n",
      "Finance : 328\n",
      "Medical : 313\n",
      "Sports : 307\n",
      "Personalization : 294\n",
      "Communication : 287\n",
      "Action : 275\n",
      "Health & Fitness : 273\n",
      "Photography : 261\n",
      "News & Magazines : 248\n",
      "Social : 236\n",
      "Travel & Local : 206\n",
      "Shopping : 199\n",
      "Books & Reference : 190\n",
      "Simulation : 181\n",
      "Dating : 165\n",
      "Arcade : 164\n",
      "Video Players & Editors : 157\n",
      "Casual : 156\n",
      "Maps & Navigation : 124\n",
      "Food & Drink : 110\n",
      "Puzzle : 100\n",
      "Racing : 88\n",
      "Role Playing : 83\n",
      "Libraries & Demo : 83\n",
      "Auto & Vehicles : 82\n",
      "Strategy : 81\n",
      "House & Home : 73\n",
      "Weather : 71\n",
      "Events : 63\n",
      "Adventure : 60\n",
      "Comics : 54\n",
      "Beauty : 53\n",
      "Art & Design : 52\n",
      "Parenting : 44\n",
      "Card : 40\n",
      "Casino : 38\n",
      "Trivia : 37\n",
      "Educational;Education : 35\n",
      "Board : 34\n",
      "Educational : 33\n",
      "Education;Education : 30\n",
      "Word : 23\n",
      "Casual;Pretend Play : 21\n",
      "Music : 18\n",
      "Racing;Action & Adventure : 15\n",
      "Puzzle;Brain Games : 15\n",
      "Entertainment;Music & Video : 15\n",
      "Casual;Brain Games : 12\n",
      "Casual;Action & Adventure : 12\n",
      "Arcade;Action & Adventure : 11\n",
      "Action;Action & Adventure : 9\n",
      "Educational;Pretend Play : 8\n",
      "Simulation;Action & Adventure : 7\n",
      "Parenting;Education : 7\n",
      "Entertainment;Brain Games : 7\n",
      "Board;Brain Games : 7\n",
      "Parenting;Music & Video : 6\n",
      "Educational;Brain Games : 6\n",
      "Casual;Creativity : 6\n",
      "Art & Design;Creativity : 6\n",
      "Education;Pretend Play : 5\n",
      "Role Playing;Pretend Play : 4\n",
      "Education;Creativity : 4\n",
      "Role Playing;Action & Adventure : 3\n",
      "Puzzle;Action & Adventure : 3\n",
      "Entertainment;Creativity : 3\n",
      "Entertainment;Action & Adventure : 3\n",
      "Educational;Creativity : 3\n",
      "Educational;Action & Adventure : 3\n",
      "Education;Music & Video : 3\n",
      "Education;Brain Games : 3\n",
      "Education;Action & Adventure : 3\n",
      "Adventure;Action & Adventure : 3\n",
      "Video Players & Editors;Music & Video : 2\n",
      "Sports;Action & Adventure : 2\n",
      "Simulation;Pretend Play : 2\n",
      "Puzzle;Creativity : 2\n",
      "Music;Music & Video : 2\n",
      "Entertainment;Pretend Play : 2\n",
      "Casual;Education : 2\n",
      "Board;Action & Adventure : 2\n",
      "Video Players & Editors;Creativity : 1\n",
      "Trivia;Education : 1\n",
      "Travel & Local;Action & Adventure : 1\n",
      "Tools;Education : 1\n",
      "Strategy;Education : 1\n",
      "Strategy;Creativity : 1\n",
      "Strategy;Action & Adventure : 1\n",
      "Simulation;Education : 1\n",
      "Role Playing;Brain Games : 1\n",
      "Racing;Pretend Play : 1\n",
      "Puzzle;Education : 1\n",
      "Parenting;Brain Games : 1\n",
      "Music & Audio;Music & Video : 1\n",
      "Lifestyle;Pretend Play : 1\n",
      "Lifestyle;Education : 1\n",
      "Health & Fitness;Education : 1\n",
      "Health & Fitness;Action & Adventure : 1\n",
      "Entertainment;Education : 1\n",
      "Communication;Creativity : 1\n",
      "Comics;Creativity : 1\n",
      "Casual;Music & Video : 1\n",
      "Card;Action & Adventure : 1\n",
      "Books & Reference;Education : 1\n",
      "Art & Design;Pretend Play : 1\n",
      "Art & Design;Action & Adventure : 1\n",
      "Arcade;Pretend Play : 1\n",
      "Adventure;Education : 1\n"
     ]
    }
   ],
   "source": [
    "#Apple prime genre 11\n",
    "#Android category 2 & genre 9\n",
    "def freq_table(data_set, index):\n",
    "    ft={}\n",
    "    for row in data_set:\n",
    "        key=row[index]\n",
    "        if key in ft:\n",
    "            ft[key]+=1\n",
    "        else:\n",
    "            ft[key]=1\n",
    "    return ft\n",
    "\n",
    "def display_table(dataset, index, is_dataset_table=False):\n",
    "    if is_dataset_table == False:\n",
    "        table = freq_table(dataset, index)\n",
    "    else:\n",
    "        table=dataset\n",
    "    table_display = []\n",
    "    for key in table:\n",
    "        key_val_as_tuple = (table[key], key)\n",
    "        table_display.append(key_val_as_tuple)\n",
    "\n",
    "    table_sorted = sorted(table_display, reverse = True)\n",
    "    for entry in table_sorted:\n",
    "        print(entry[1], ':', entry[0])\n",
    "        \n",
    "\n",
    "\n",
    "print(\"Apple store prime genre frequency table\")\n",
    "display_table(clean_apple, 11)\n",
    "\n",
    "print(\"\\nGPlay category frequency table\")\n",
    "display_table(clean_android, 1)\n",
    "\n",
    "print(\"\\nGPlay genre frequency table\")\n",
    "display_table(clean_android, 9)\n"
   ]
  },
  {
   "cell_type": "markdown",
   "metadata": {},
   "source": [
    "We can see that the Apple Store is dominated by gaming application and entertainment in general (games, video and phto, social networking...)\n",
    "\n",
    "Meanwhile most of Google play application are categorized as Familly. The most commun genre is `Tools`. After some investigation, we realise that familly applications are mainly composed of gaming applications for kid. With that in mind, it appears that gaming application dominate both markets.\n",
    "\n",
    "Now that we identified the main genres, we would like to know which kind of application attracts the most user. We can get this information in the android dataset in the `install`. Yet  on the Apple store data, this information is missing so we'll focus on the `rating_count_tot` column which tells us how many rating an application has received."
   ]
  },
  {
   "cell_type": "code",
   "execution_count": 19,
   "metadata": {},
   "outputs": [
    {
     "name": "stdout",
     "output_type": "stream",
     "text": [
      "Navigation : 86090.33333333333\n",
      "Reference : 74942.11111111111\n",
      "Social Networking : 71548.34905660378\n",
      "Music : 57326.530303030304\n",
      "Weather : 52279.892857142855\n",
      "Book : 39758.5\n",
      "Food & Drink : 33333.92307692308\n",
      "Finance : 31467.944444444445\n",
      "Photo & Video : 28441.54375\n",
      "Travel : 28243.8\n",
      "Shopping : 26919.690476190477\n",
      "Health & Fitness : 23298.015384615384\n",
      "Sports : 23008.898550724636\n",
      "Games : 22788.6696905016\n",
      "News : 21248.023255813954\n",
      "Productivity : 21028.410714285714\n",
      "Utilities : 18684.456790123455\n",
      "Lifestyle : 16485.764705882353\n",
      "Entertainment : 14029.830708661417\n",
      "Business : 7491.117647058823\n",
      "Education : 7003.983050847458\n",
      "Catalogs : 4004.0\n",
      "Medical : 612.0\n"
     ]
    }
   ],
   "source": [
    "prime_genre_ft=freq_table(clean_apple, 11)\n",
    "\n",
    "genre_avg_review_dic={}\n",
    "for key in prime_genre_ft:\n",
    "    total=0\n",
    "    genre_avg_review_dic[key]=0\n",
    "    for row in clean_apple:\n",
    "        genre = row[11]\n",
    "        review = float(row[5])\n",
    "        if genre == key:\n",
    "            genre_avg_review_dic[key]+=review\n",
    "            total+=1\n",
    "    genre_avg_review_dic[key]/=total\n",
    "    \n",
    "display_table(genre_avg_review_dic,0, True)"
   ]
  },
  {
   "cell_type": "code",
   "execution_count": null,
   "metadata": {},
   "outputs": [],
   "source": []
  }
 ],
 "metadata": {
  "kernelspec": {
   "display_name": "Python 3",
   "language": "python",
   "name": "python3"
  },
  "language_info": {
   "codemirror_mode": {
    "name": "ipython",
    "version": 3
   },
   "file_extension": ".py",
   "mimetype": "text/x-python",
   "name": "python",
   "nbconvert_exporter": "python",
   "pygments_lexer": "ipython3",
   "version": "3.7.6"
  }
 },
 "nbformat": 4,
 "nbformat_minor": 4
}
